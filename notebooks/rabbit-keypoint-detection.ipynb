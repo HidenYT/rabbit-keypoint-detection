{
 "cells": [
  {
   "cell_type": "code",
   "execution_count": 1,
   "id": "ff9f4995-d967-4580-a5d3-a48573c43ac9",
   "metadata": {},
   "outputs": [
    {
     "name": "stdout",
     "output_type": "stream",
     "text": [
      "Loading DLC 2.3.8...\n"
     ]
    }
   ],
   "source": [
    "import deeplabcut"
   ]
  },
  {
   "cell_type": "code",
   "execution_count": 2,
   "id": "9dd66284",
   "metadata": {},
   "outputs": [],
   "source": [
    "videos_paths = [\n",
    "    r\"..\\videos\\rabbit-video-3.mp4\",\n",
    "]"
   ]
  },
  {
   "cell_type": "code",
   "execution_count": 4,
   "id": "b10b3f20",
   "metadata": {},
   "outputs": [
    {
     "name": "stdout",
     "output_type": "stream",
     "text": [
      "Project \"D:\\Documents\\Programming\\Прочее\\ML\\rabbit-keypoint-detection\\notebooks\\Rabbit keypoint detection test-Dmitriy Bukharev-2023-11-11\" already exists!\n"
     ]
    }
   ],
   "source": [
    "config_path = deeplabcut.create_new_project(\"Rabbit keypoint detection test\", \"Dmitriy Bukharev\", videos_paths)"
   ]
  },
  {
   "cell_type": "code",
   "execution_count": 5,
   "id": "a3143cf3",
   "metadata": {},
   "outputs": [
    {
     "data": {
      "text/plain": [
       "'D:\\\\Documents\\\\Programming\\\\Прочее\\\\ML\\\\rabbit-keypoint-detection\\\\notebooks\\\\Rabbit keypoint detection test-Dmitriy Bukharev-2023-11-11\\\\config.yaml'"
      ]
     },
     "execution_count": 5,
     "metadata": {},
     "output_type": "execute_result"
    }
   ],
   "source": [
    "config_path"
   ]
  },
  {
   "cell_type": "code",
   "execution_count": 9,
   "id": "915b3456",
   "metadata": {
    "scrolled": true
   },
   "outputs": [
    {
     "name": "stdout",
     "output_type": "stream",
     "text": [
      "Config file read successfully.\n",
      "Extracting frames based on kmeans ...\n",
      "Kmeans-quantization based extracting of frames from 0.0  seconds to 59.63  seconds.\n",
      "Extracting and downsampling... 1789  frames from the video.\n"
     ]
    },
    {
     "name": "stderr",
     "output_type": "stream",
     "text": [
      "1789it [00:12, 148.59it/s]\n",
      "C:\\Users\\Dmitriy\\anaconda3\\envs\\DEEPLABCUT\\lib\\site-packages\\sklearn\\cluster\\_kmeans.py:1934: FutureWarning: The default value of `n_init` will change from 3 to 'auto' in 1.4. Set the value of `n_init` explicitly to suppress the warning\n",
      "  super()._check_params_vs_input(X, default_n_init=3)\n"
     ]
    },
    {
     "name": "stdout",
     "output_type": "stream",
     "text": [
      "Kmeans clustering ... (this might take a while)\n",
      "Frames were successfully extracted, for the videos listed in the config.yaml file.\n",
      "\n",
      "You can now label the frames using the function 'label_frames' (Note, you should label frames extracted from diverse videos (and many videos; we do not recommend training on single videos!)).\n"
     ]
    }
   ],
   "source": [
    "deeplabcut.extract_frames(config_path, mode=\"automatic\", userfeedback=False)"
   ]
  },
  {
   "cell_type": "code",
   "execution_count": 10,
   "id": "17d97052",
   "metadata": {},
   "outputs": [
    {
     "name": "stderr",
     "output_type": "stream",
     "text": [
      "WARNING: DirectWrite: CreateFontFaceFromHDC() failed (Означает ошибку во входном файле, например в файле шрифта.) for QFontDef(Family=\"MS Sans Serif\", pointsize=12, pixelsize=16, styleHint=5, weight=400, stretch=100, hintingPreference=0) LOGFONT(\"MS Sans Serif\", lfWidth=0, lfHeight=-16) dpi=120\n"
     ]
    }
   ],
   "source": [
    "deeplabcut.label_frames(config_path)"
   ]
  },
  {
   "cell_type": "code",
   "execution_count": 11,
   "id": "3add74fe",
   "metadata": {},
   "outputs": [
    {
     "name": "stdout",
     "output_type": "stream",
     "text": [
      "Creating images with labels by Dmitriy Bukharev.\n"
     ]
    },
    {
     "name": "stderr",
     "output_type": "stream",
     "text": [
      "100%|██████████████████████████████████████████████████████████████████████████████████| 20/20 [00:04<00:00,  4.29it/s]"
     ]
    },
    {
     "name": "stdout",
     "output_type": "stream",
     "text": [
      "If all the labels are ok, then use the function 'create_training_dataset' to create the training dataset!\n"
     ]
    },
    {
     "name": "stderr",
     "output_type": "stream",
     "text": [
      "\n"
     ]
    }
   ],
   "source": [
    "deeplabcut.check_labels(config_path, visualizeindividuals=True)"
   ]
  },
  {
   "cell_type": "code",
   "execution_count": 6,
   "id": "88de5389",
   "metadata": {},
   "outputs": [
    {
     "name": "stdout",
     "output_type": "stream",
     "text": [
      "The training dataset is successfully created. Use the function 'train_network' to start training. Happy training!\n"
     ]
    },
    {
     "data": {
      "text/plain": [
       "[(0.95,\n",
       "  1,\n",
       "  (array([18,  1, 19,  8, 10, 17,  6, 13,  4,  2,  5, 14,  9,  7, 16, 11,  3,\n",
       "           0, 15]),\n",
       "   array([12])))]"
      ]
     },
     "execution_count": 6,
     "metadata": {},
     "output_type": "execute_result"
    }
   ],
   "source": [
    "deeplabcut.create_training_dataset(config_path, augmenter_type='imgaug', net_type='mobilenet_v2_1.0')"
   ]
  },
  {
   "cell_type": "code",
   "execution_count": 9,
   "id": "29866cba",
   "metadata": {
    "scrolled": false
   },
   "outputs": [
    {
     "name": "stderr",
     "output_type": "stream",
     "text": [
      "Config:\n",
      "{'all_joints': [[0], [1], [2], [3], [4], [5], [6]],\n",
      " 'all_joints_names': ['left_ear',\n",
      "                      'right_ear',\n",
      "                      'head',\n",
      "                      'front_left_paw',\n",
      "                      'front_right_paw',\n",
      "                      'back_left_paw',\n",
      "                      'bakc_right_paw'],\n",
      " 'alpha_r': 0.02,\n",
      " 'apply_prob': 0.5,\n",
      " 'batch_size': 1,\n",
      " 'contrast': {'clahe': True,\n",
      "              'claheratio': 0.1,\n",
      "              'histeq': True,\n",
      "              'histeqratio': 0.1},\n",
      " 'convolution': {'edge': False,\n",
      "                 'emboss': {'alpha': [0.0, 1.0], 'strength': [0.5, 1.5]},\n",
      "                 'embossratio': 0.1,\n",
      "                 'sharpen': False,\n",
      "                 'sharpenratio': 0.3},\n",
      " 'crop_pad': 0,\n",
      " 'cropratio': 0.4,\n",
      " 'dataset': 'training-datasets\\\\iteration-0\\\\UnaugmentedDataSet_Rabbit '\n",
      "            'keypoint detection testNov11\\\\Rabbit keypoint detection '\n",
      "            'test_Dmitriy Bukharev95shuffle1.mat',\n",
      " 'dataset_type': 'imgaug',\n",
      " 'decay_steps': 30000,\n",
      " 'deterministic': False,\n",
      " 'display_iters': 1000,\n",
      " 'fg_fraction': 0.25,\n",
      " 'global_scale': 0.8,\n",
      " 'init_weights': 'C:\\\\Users\\\\Dmitriy\\\\anaconda3\\\\envs\\\\DEEPLABCUT\\\\lib\\\\site-packages\\\\deeplabcut\\\\pose_estimation_tensorflow\\\\models\\\\pretrained\\\\mobilenet_v2_1.0_224.ckpt',\n",
      " 'intermediate_supervision': False,\n",
      " 'intermediate_supervision_layer': 12,\n",
      " 'location_refinement': True,\n",
      " 'locref_huber_loss': True,\n",
      " 'locref_loss_weight': 0.05,\n",
      " 'locref_stdev': 7.2801,\n",
      " 'log_dir': 'log',\n",
      " 'lr_init': 0.0005,\n",
      " 'max_input_size': 1500,\n",
      " 'mean_pixel': [123.68, 116.779, 103.939],\n",
      " 'metadataset': 'training-datasets\\\\iteration-0\\\\UnaugmentedDataSet_Rabbit '\n",
      "                'keypoint detection testNov11\\\\Documentation_data-Rabbit '\n",
      "                'keypoint detection test_95shuffle1.pickle',\n",
      " 'min_input_size': 64,\n",
      " 'mirror': False,\n",
      " 'multi_stage': False,\n",
      " 'multi_step': [[0.005, 10000],\n",
      "                [0.02, 430000],\n",
      "                [0.002, 730000],\n",
      "                [0.001, 1030000]],\n",
      " 'net_type': 'mobilenet_v2_1.0',\n",
      " 'num_joints': 7,\n",
      " 'optimizer': 'sgd',\n",
      " 'pairwise_huber_loss': False,\n",
      " 'pairwise_predict': False,\n",
      " 'partaffinityfield_predict': False,\n",
      " 'pos_dist_thresh': 17,\n",
      " 'project_path': 'D:\\\\Documents\\\\Programming\\\\Прочее\\\\ML\\\\rabbit-keypoint-detection\\\\notebooks\\\\Rabbit '\n",
      "                 'keypoint detection test-Dmitriy Bukharev-2023-11-11',\n",
      " 'regularize': False,\n",
      " 'rotation': 25,\n",
      " 'rotratio': 0.4,\n",
      " 'save_iters': 50000,\n",
      " 'scale_jitter_lo': 0.5,\n",
      " 'scale_jitter_up': 1.25,\n",
      " 'scoremap_dir': 'test',\n",
      " 'shuffle': True,\n",
      " 'snapshot_prefix': 'D:\\\\Documents\\\\Programming\\\\Прочее\\\\ML\\\\rabbit-keypoint-detection\\\\notebooks\\\\Rabbit '\n",
      "                    'keypoint detection test-Dmitriy '\n",
      "                    'Bukharev-2023-11-11\\\\dlc-models\\\\iteration-0\\\\Rabbit '\n",
      "                    'keypoint detection '\n",
      "                    'testNov11-trainset95shuffle1\\\\train\\\\snapshot',\n",
      " 'stride': 8.0,\n",
      " 'weigh_negatives': False,\n",
      " 'weigh_only_present_joints': False,\n",
      " 'weigh_part_predictions': False,\n",
      " 'weight_decay': 0.0001}\n"
     ]
    },
    {
     "name": "stdout",
     "output_type": "stream",
     "text": [
      "Selecting single-animal trainer\n",
      "Batch Size is 1\n"
     ]
    },
    {
     "name": "stderr",
     "output_type": "stream",
     "text": [
      "C:\\Users\\Dmitriy\\anaconda3\\envs\\DEEPLABCUT\\lib\\site-packages\\tensorflow\\python\\keras\\engine\\base_layer_v1.py:1694: UserWarning: `layer.apply` is deprecated and will be removed in a future version. Please use `layer.__call__` method instead.\n",
      "  warnings.warn('`layer.apply` is deprecated and '\n"
     ]
    },
    {
     "name": "stdout",
     "output_type": "stream",
     "text": [
      "Loading ImageNet-pretrained mobilenet_v2_1.0\n",
      "Max_iters overwritten as 30000\n",
      "Display_iters overwritten as 100\n",
      "Training parameter:\n",
      "{'stride': 8.0, 'weigh_part_predictions': False, 'weigh_negatives': False, 'fg_fraction': 0.25, 'mean_pixel': [123.68, 116.779, 103.939], 'shuffle': True, 'snapshot_prefix': 'D:\\\\Documents\\\\Programming\\\\Прочее\\\\ML\\\\rabbit-keypoint-detection\\\\notebooks\\\\Rabbit keypoint detection test-Dmitriy Bukharev-2023-11-11\\\\dlc-models\\\\iteration-0\\\\Rabbit keypoint detection testNov11-trainset95shuffle1\\\\train\\\\snapshot', 'log_dir': 'log', 'global_scale': 0.8, 'location_refinement': True, 'locref_stdev': 7.2801, 'locref_loss_weight': 0.05, 'locref_huber_loss': True, 'optimizer': 'sgd', 'intermediate_supervision': False, 'intermediate_supervision_layer': 12, 'regularize': False, 'weight_decay': 0.0001, 'crop_pad': 0, 'scoremap_dir': 'test', 'batch_size': 1, 'dataset_type': 'imgaug', 'deterministic': False, 'mirror': False, 'pairwise_huber_loss': False, 'weigh_only_present_joints': False, 'partaffinityfield_predict': False, 'pairwise_predict': False, 'all_joints': [[0], [1], [2], [3], [4], [5], [6]], 'all_joints_names': ['left_ear', 'right_ear', 'head', 'front_left_paw', 'front_right_paw', 'back_left_paw', 'bakc_right_paw'], 'alpha_r': 0.02, 'apply_prob': 0.5, 'contrast': {'clahe': True, 'claheratio': 0.1, 'histeq': True, 'histeqratio': 0.1, 'gamma': False, 'sigmoid': False, 'log': False, 'linear': False}, 'convolution': {'edge': False, 'emboss': {'alpha': [0.0, 1.0], 'strength': [0.5, 1.5]}, 'embossratio': 0.1, 'sharpen': False, 'sharpenratio': 0.3}, 'cropratio': 0.4, 'dataset': 'training-datasets\\\\iteration-0\\\\UnaugmentedDataSet_Rabbit keypoint detection testNov11\\\\Rabbit keypoint detection test_Dmitriy Bukharev95shuffle1.mat', 'decay_steps': 30000, 'display_iters': 1000, 'init_weights': 'C:\\\\Users\\\\Dmitriy\\\\anaconda3\\\\envs\\\\DEEPLABCUT\\\\lib\\\\site-packages\\\\deeplabcut\\\\pose_estimation_tensorflow\\\\models\\\\pretrained\\\\mobilenet_v2_1.0_224.ckpt', 'lr_init': 0.0005, 'max_input_size': 1500, 'metadataset': 'training-datasets\\\\iteration-0\\\\UnaugmentedDataSet_Rabbit keypoint detection testNov11\\\\Documentation_data-Rabbit keypoint detection test_95shuffle1.pickle', 'min_input_size': 64, 'multi_stage': False, 'multi_step': [[0.005, 10000], [0.02, 430000], [0.002, 730000], [0.001, 1030000]], 'net_type': 'mobilenet_v2_1.0', 'num_joints': 7, 'pos_dist_thresh': 17, 'project_path': 'D:\\\\Documents\\\\Programming\\\\Прочее\\\\ML\\\\rabbit-keypoint-detection\\\\notebooks\\\\Rabbit keypoint detection test-Dmitriy Bukharev-2023-11-11', 'rotation': 25, 'rotratio': 0.4, 'save_iters': 50000, 'scale_jitter_lo': 0.5, 'scale_jitter_up': 1.25, 'covering': True, 'elastic_transform': True, 'motion_blur': True, 'motion_blur_params': {'k': 7, 'angle': (-90, 90)}}\n",
      "Starting training....\n"
     ]
    },
    {
     "name": "stderr",
     "output_type": "stream",
     "text": [
      "iteration: 100 loss: 0.1864 lr: 0.005\n",
      "iteration: 200 loss: 0.0489 lr: 0.005\n",
      "iteration: 300 loss: 0.0375 lr: 0.005\n",
      "iteration: 400 loss: 0.0317 lr: 0.005\n",
      "iteration: 500 loss: 0.0300 lr: 0.005\n",
      "iteration: 600 loss: 0.0280 lr: 0.005\n",
      "iteration: 700 loss: 0.0274 lr: 0.005\n",
      "iteration: 800 loss: 0.0249 lr: 0.005\n",
      "iteration: 900 loss: 0.0242 lr: 0.005\n",
      "iteration: 1000 loss: 0.0236 lr: 0.005\n",
      "iteration: 1100 loss: 0.0241 lr: 0.005\n",
      "iteration: 1200 loss: 0.0225 lr: 0.005\n",
      "iteration: 1300 loss: 0.0209 lr: 0.005\n",
      "iteration: 1400 loss: 0.0214 lr: 0.005\n",
      "iteration: 1500 loss: 0.0200 lr: 0.005\n",
      "iteration: 1600 loss: 0.0206 lr: 0.005\n",
      "iteration: 1700 loss: 0.0193 lr: 0.005\n",
      "iteration: 1800 loss: 0.0204 lr: 0.005\n",
      "iteration: 1900 loss: 0.0197 lr: 0.005\n",
      "iteration: 2000 loss: 0.0180 lr: 0.005\n",
      "iteration: 2100 loss: 0.0187 lr: 0.005\n",
      "iteration: 2200 loss: 0.0181 lr: 0.005\n",
      "iteration: 2300 loss: 0.0172 lr: 0.005\n",
      "iteration: 2400 loss: 0.0173 lr: 0.005\n",
      "iteration: 2500 loss: 0.0170 lr: 0.005\n",
      "iteration: 2600 loss: 0.0166 lr: 0.005\n",
      "iteration: 2700 loss: 0.0173 lr: 0.005\n",
      "iteration: 2800 loss: 0.0179 lr: 0.005\n",
      "iteration: 2900 loss: 0.0169 lr: 0.005\n",
      "iteration: 3000 loss: 0.0168 lr: 0.005\n",
      "iteration: 3100 loss: 0.0160 lr: 0.005\n",
      "iteration: 3200 loss: 0.0165 lr: 0.005\n",
      "iteration: 3300 loss: 0.0160 lr: 0.005\n",
      "iteration: 3400 loss: 0.0157 lr: 0.005\n",
      "iteration: 3500 loss: 0.0159 lr: 0.005\n",
      "iteration: 3600 loss: 0.0157 lr: 0.005\n",
      "iteration: 3700 loss: 0.0152 lr: 0.005\n",
      "iteration: 3800 loss: 0.0150 lr: 0.005\n",
      "iteration: 3900 loss: 0.0159 lr: 0.005\n",
      "iteration: 4000 loss: 0.0153 lr: 0.005\n",
      "iteration: 4100 loss: 0.0149 lr: 0.005\n",
      "iteration: 4200 loss: 0.0145 lr: 0.005\n",
      "iteration: 4300 loss: 0.0148 lr: 0.005\n",
      "iteration: 4400 loss: 0.0141 lr: 0.005\n",
      "iteration: 4500 loss: 0.0142 lr: 0.005\n",
      "iteration: 4600 loss: 0.0147 lr: 0.005\n",
      "iteration: 4700 loss: 0.0146 lr: 0.005\n",
      "iteration: 4800 loss: 0.0138 lr: 0.005\n",
      "iteration: 4900 loss: 0.0130 lr: 0.005\n",
      "iteration: 5000 loss: 0.0137 lr: 0.005\n",
      "iteration: 5100 loss: 0.0132 lr: 0.005\n",
      "iteration: 5200 loss: 0.0139 lr: 0.005\n",
      "iteration: 5300 loss: 0.0138 lr: 0.005\n",
      "iteration: 5400 loss: 0.0129 lr: 0.005\n",
      "iteration: 5500 loss: 0.0132 lr: 0.005\n",
      "iteration: 5600 loss: 0.0138 lr: 0.005\n",
      "iteration: 5700 loss: 0.0129 lr: 0.005\n",
      "iteration: 5800 loss: 0.0129 lr: 0.005\n",
      "iteration: 5900 loss: 0.0144 lr: 0.005\n",
      "iteration: 6000 loss: 0.0131 lr: 0.005\n",
      "iteration: 6100 loss: 0.0133 lr: 0.005\n",
      "iteration: 6200 loss: 0.0123 lr: 0.005\n",
      "iteration: 6300 loss: 0.0128 lr: 0.005\n",
      "iteration: 6400 loss: 0.0128 lr: 0.005\n",
      "iteration: 6500 loss: 0.0127 lr: 0.005\n",
      "iteration: 6600 loss: 0.0125 lr: 0.005\n",
      "iteration: 6700 loss: 0.0135 lr: 0.005\n",
      "iteration: 6800 loss: 0.0118 lr: 0.005\n",
      "iteration: 6900 loss: 0.0121 lr: 0.005\n",
      "iteration: 7000 loss: 0.0123 lr: 0.005\n",
      "iteration: 7100 loss: 0.0124 lr: 0.005\n",
      "iteration: 7200 loss: 0.0118 lr: 0.005\n",
      "iteration: 7300 loss: 0.0121 lr: 0.005\n",
      "iteration: 7400 loss: 0.0120 lr: 0.005\n",
      "iteration: 7500 loss: 0.0124 lr: 0.005\n",
      "iteration: 7600 loss: 0.0122 lr: 0.005\n",
      "iteration: 7700 loss: 0.0114 lr: 0.005\n",
      "iteration: 7800 loss: 0.0114 lr: 0.005\n",
      "iteration: 7900 loss: 0.0112 lr: 0.005\n",
      "iteration: 8000 loss: 0.0117 lr: 0.005\n",
      "iteration: 8100 loss: 0.0112 lr: 0.005\n",
      "iteration: 8200 loss: 0.0116 lr: 0.005\n",
      "iteration: 8300 loss: 0.0108 lr: 0.005\n",
      "iteration: 8400 loss: 0.0109 lr: 0.005\n",
      "iteration: 8500 loss: 0.0107 lr: 0.005\n",
      "iteration: 8600 loss: 0.0110 lr: 0.005\n",
      "iteration: 8700 loss: 0.0107 lr: 0.005\n",
      "iteration: 8800 loss: 0.0106 lr: 0.005\n",
      "iteration: 8900 loss: 0.0103 lr: 0.005\n",
      "iteration: 9000 loss: 0.0106 lr: 0.005\n",
      "iteration: 9100 loss: 0.0102 lr: 0.005\n",
      "iteration: 9200 loss: 0.0107 lr: 0.005\n",
      "iteration: 9300 loss: 0.0096 lr: 0.005\n",
      "iteration: 9400 loss: 0.0101 lr: 0.005\n",
      "iteration: 9500 loss: 0.0100 lr: 0.005\n",
      "iteration: 9600 loss: 0.0093 lr: 0.005\n",
      "iteration: 9700 loss: 0.0106 lr: 0.005\n",
      "iteration: 9800 loss: 0.0101 lr: 0.005\n",
      "iteration: 9900 loss: 0.0099 lr: 0.005\n",
      "iteration: 10000 loss: 0.0097 lr: 0.005\n",
      "iteration: 10100 loss: 0.0106 lr: 0.02\n",
      "iteration: 10200 loss: 0.0107 lr: 0.02\n",
      "iteration: 10300 loss: 0.0098 lr: 0.02\n",
      "iteration: 10400 loss: 0.0102 lr: 0.02\n",
      "iteration: 10500 loss: 0.0108 lr: 0.02\n",
      "iteration: 10600 loss: 0.0090 lr: 0.02\n",
      "iteration: 10700 loss: 0.0097 lr: 0.02\n",
      "iteration: 10800 loss: 0.0096 lr: 0.02\n",
      "iteration: 10900 loss: 0.0090 lr: 0.02\n",
      "iteration: 11000 loss: 0.0085 lr: 0.02\n",
      "iteration: 11100 loss: 0.0086 lr: 0.02\n",
      "iteration: 11200 loss: 0.0088 lr: 0.02\n",
      "iteration: 11300 loss: 0.0083 lr: 0.02\n",
      "iteration: 11400 loss: 0.0077 lr: 0.02\n",
      "iteration: 11500 loss: 0.0081 lr: 0.02\n",
      "iteration: 11600 loss: 0.0072 lr: 0.02\n",
      "iteration: 11700 loss: 0.0075 lr: 0.02\n",
      "iteration: 11800 loss: 0.0070 lr: 0.02\n",
      "iteration: 11900 loss: 0.0087 lr: 0.02\n",
      "iteration: 12000 loss: 0.0071 lr: 0.02\n",
      "iteration: 12100 loss: 0.0071 lr: 0.02\n",
      "iteration: 12200 loss: 0.0075 lr: 0.02\n",
      "iteration: 12300 loss: 0.0063 lr: 0.02\n",
      "iteration: 12400 loss: 0.0076 lr: 0.02\n",
      "iteration: 12500 loss: 0.0077 lr: 0.02\n",
      "iteration: 12600 loss: 0.0071 lr: 0.02\n",
      "iteration: 12700 loss: 0.0063 lr: 0.02\n",
      "iteration: 12800 loss: 0.0074 lr: 0.02\n",
      "iteration: 12900 loss: 0.0066 lr: 0.02\n",
      "iteration: 13000 loss: 0.0064 lr: 0.02\n",
      "iteration: 13100 loss: 0.0067 lr: 0.02\n",
      "iteration: 13200 loss: 0.0065 lr: 0.02\n",
      "iteration: 13300 loss: 0.0062 lr: 0.02\n",
      "iteration: 13400 loss: 0.0064 lr: 0.02\n",
      "iteration: 13500 loss: 0.0061 lr: 0.02\n",
      "iteration: 13600 loss: 0.0053 lr: 0.02\n",
      "iteration: 13700 loss: 0.0062 lr: 0.02\n",
      "iteration: 13800 loss: 0.0062 lr: 0.02\n",
      "iteration: 13900 loss: 0.0057 lr: 0.02\n",
      "iteration: 14000 loss: 0.0051 lr: 0.02\n",
      "iteration: 14100 loss: 0.0064 lr: 0.02\n",
      "iteration: 14200 loss: 0.0057 lr: 0.02\n",
      "iteration: 14300 loss: 0.0057 lr: 0.02\n",
      "iteration: 14400 loss: 0.0063 lr: 0.02\n",
      "iteration: 14500 loss: 0.0053 lr: 0.02\n",
      "iteration: 14600 loss: 0.0058 lr: 0.02\n",
      "iteration: 14700 loss: 0.0056 lr: 0.02\n",
      "iteration: 14800 loss: 0.0065 lr: 0.02\n",
      "iteration: 14900 loss: 0.0051 lr: 0.02\n",
      "iteration: 15000 loss: 0.0053 lr: 0.02\n",
      "iteration: 15100 loss: 0.0051 lr: 0.02\n",
      "iteration: 15200 loss: 0.0052 lr: 0.02\n",
      "iteration: 15300 loss: 0.0053 lr: 0.02\n",
      "iteration: 15400 loss: 0.0053 lr: 0.02\n",
      "iteration: 15500 loss: 0.0055 lr: 0.02\n",
      "iteration: 15600 loss: 0.0054 lr: 0.02\n",
      "iteration: 15700 loss: 0.0050 lr: 0.02\n",
      "iteration: 15800 loss: 0.0050 lr: 0.02\n",
      "iteration: 15900 loss: 0.0048 lr: 0.02\n",
      "iteration: 16000 loss: 0.0059 lr: 0.02\n",
      "iteration: 16100 loss: 0.0049 lr: 0.02\n",
      "iteration: 16200 loss: 0.0052 lr: 0.02\n",
      "iteration: 16300 loss: 0.0051 lr: 0.02\n",
      "iteration: 16400 loss: 0.0054 lr: 0.02\n",
      "iteration: 16500 loss: 0.0050 lr: 0.02\n",
      "iteration: 16600 loss: 0.0050 lr: 0.02\n",
      "iteration: 16700 loss: 0.0045 lr: 0.02\n",
      "iteration: 16800 loss: 0.0047 lr: 0.02\n",
      "iteration: 16900 loss: 0.0047 lr: 0.02\n",
      "iteration: 17000 loss: 0.0045 lr: 0.02\n",
      "iteration: 17100 loss: 0.0043 lr: 0.02\n",
      "iteration: 17200 loss: 0.0056 lr: 0.02\n",
      "iteration: 17300 loss: 0.0048 lr: 0.02\n",
      "iteration: 17400 loss: 0.0047 lr: 0.02\n",
      "iteration: 17500 loss: 0.0047 lr: 0.02\n",
      "iteration: 17600 loss: 0.0045 lr: 0.02\n",
      "iteration: 17700 loss: 0.0041 lr: 0.02\n",
      "iteration: 17800 loss: 0.0044 lr: 0.02\n",
      "iteration: 17900 loss: 0.0043 lr: 0.02\n",
      "iteration: 18000 loss: 0.0042 lr: 0.02\n",
      "iteration: 18100 loss: 0.0043 lr: 0.02\n",
      "iteration: 18200 loss: 0.0047 lr: 0.02\n",
      "iteration: 18300 loss: 0.0043 lr: 0.02\n",
      "iteration: 18400 loss: 0.0045 lr: 0.02\n",
      "iteration: 18500 loss: 0.0041 lr: 0.02\n",
      "iteration: 18600 loss: 0.0038 lr: 0.02\n",
      "iteration: 18700 loss: 0.0038 lr: 0.02\n",
      "iteration: 18800 loss: 0.0039 lr: 0.02\n",
      "iteration: 18900 loss: 0.0042 lr: 0.02\n",
      "iteration: 19000 loss: 0.0039 lr: 0.02\n",
      "iteration: 19100 loss: 0.0036 lr: 0.02\n",
      "iteration: 19200 loss: 0.0038 lr: 0.02\n",
      "iteration: 19300 loss: 0.0039 lr: 0.02\n",
      "iteration: 19400 loss: 0.0040 lr: 0.02\n",
      "iteration: 19500 loss: 0.0036 lr: 0.02\n",
      "iteration: 19600 loss: 0.0039 lr: 0.02\n",
      "iteration: 19700 loss: 0.0040 lr: 0.02\n",
      "iteration: 19800 loss: 0.0040 lr: 0.02\n",
      "iteration: 19900 loss: 0.0038 lr: 0.02\n",
      "iteration: 20000 loss: 0.0040 lr: 0.02\n",
      "iteration: 20100 loss: 0.0036 lr: 0.02\n",
      "iteration: 20200 loss: 0.0040 lr: 0.02\n",
      "iteration: 20300 loss: 0.0040 lr: 0.02\n",
      "iteration: 20400 loss: 0.0034 lr: 0.02\n",
      "iteration: 20500 loss: 0.0039 lr: 0.02\n",
      "iteration: 20600 loss: 0.0041 lr: 0.02\n",
      "iteration: 20700 loss: 0.0037 lr: 0.02\n",
      "iteration: 20800 loss: 0.0040 lr: 0.02\n",
      "iteration: 20900 loss: 0.0036 lr: 0.02\n",
      "iteration: 21000 loss: 0.0036 lr: 0.02\n",
      "iteration: 21100 loss: 0.0037 lr: 0.02\n"
     ]
    },
    {
     "name": "stderr",
     "output_type": "stream",
     "text": [
      "iteration: 21200 loss: 0.0037 lr: 0.02\n",
      "iteration: 21300 loss: 0.0036 lr: 0.02\n",
      "iteration: 21400 loss: 0.0037 lr: 0.02\n",
      "iteration: 21500 loss: 0.0036 lr: 0.02\n",
      "iteration: 21600 loss: 0.0037 lr: 0.02\n",
      "iteration: 21700 loss: 0.0034 lr: 0.02\n",
      "iteration: 21800 loss: 0.0037 lr: 0.02\n",
      "iteration: 21900 loss: 0.0034 lr: 0.02\n",
      "iteration: 22000 loss: 0.0033 lr: 0.02\n",
      "iteration: 22100 loss: 0.0036 lr: 0.02\n",
      "iteration: 22200 loss: 0.0037 lr: 0.02\n",
      "iteration: 22300 loss: 0.0033 lr: 0.02\n",
      "iteration: 22400 loss: 0.0039 lr: 0.02\n",
      "iteration: 22500 loss: 0.0030 lr: 0.02\n",
      "iteration: 22600 loss: 0.0038 lr: 0.02\n",
      "iteration: 22700 loss: 0.0034 lr: 0.02\n",
      "iteration: 22800 loss: 0.0035 lr: 0.02\n",
      "iteration: 22900 loss: 0.0033 lr: 0.02\n",
      "iteration: 23000 loss: 0.0033 lr: 0.02\n",
      "iteration: 23100 loss: 0.0030 lr: 0.02\n",
      "iteration: 23200 loss: 0.0035 lr: 0.02\n",
      "iteration: 23300 loss: 0.0032 lr: 0.02\n",
      "iteration: 23400 loss: 0.0034 lr: 0.02\n",
      "iteration: 23500 loss: 0.0030 lr: 0.02\n",
      "iteration: 23600 loss: 0.0031 lr: 0.02\n",
      "iteration: 23700 loss: 0.0035 lr: 0.02\n",
      "iteration: 23800 loss: 0.0031 lr: 0.02\n",
      "iteration: 23900 loss: 0.0039 lr: 0.02\n",
      "iteration: 24000 loss: 0.0032 lr: 0.02\n",
      "iteration: 24100 loss: 0.0032 lr: 0.02\n",
      "iteration: 24200 loss: 0.0028 lr: 0.02\n",
      "iteration: 24300 loss: 0.0031 lr: 0.02\n",
      "iteration: 24400 loss: 0.0030 lr: 0.02\n",
      "iteration: 24500 loss: 0.0032 lr: 0.02\n",
      "iteration: 24600 loss: 0.0032 lr: 0.02\n",
      "iteration: 24700 loss: 0.0033 lr: 0.02\n",
      "iteration: 24800 loss: 0.0029 lr: 0.02\n",
      "iteration: 24900 loss: 0.0030 lr: 0.02\n",
      "iteration: 25000 loss: 0.0033 lr: 0.02\n",
      "iteration: 25100 loss: 0.0033 lr: 0.02\n",
      "iteration: 25200 loss: 0.0030 lr: 0.02\n",
      "iteration: 25300 loss: 0.0032 lr: 0.02\n",
      "iteration: 25400 loss: 0.0030 lr: 0.02\n",
      "iteration: 25500 loss: 0.0029 lr: 0.02\n",
      "iteration: 25600 loss: 0.0028 lr: 0.02\n",
      "iteration: 25700 loss: 0.0028 lr: 0.02\n",
      "iteration: 25800 loss: 0.0030 lr: 0.02\n",
      "iteration: 25900 loss: 0.0028 lr: 0.02\n",
      "iteration: 26000 loss: 0.0029 lr: 0.02\n",
      "iteration: 26100 loss: 0.0031 lr: 0.02\n",
      "iteration: 26200 loss: 0.0028 lr: 0.02\n",
      "iteration: 26300 loss: 0.0029 lr: 0.02\n",
      "iteration: 26400 loss: 0.0029 lr: 0.02\n",
      "iteration: 26500 loss: 0.0030 lr: 0.02\n",
      "iteration: 26600 loss: 0.0028 lr: 0.02\n",
      "iteration: 26700 loss: 0.0028 lr: 0.02\n",
      "iteration: 26800 loss: 0.0029 lr: 0.02\n",
      "iteration: 26900 loss: 0.0031 lr: 0.02\n",
      "iteration: 27000 loss: 0.0027 lr: 0.02\n",
      "iteration: 27100 loss: 0.0031 lr: 0.02\n",
      "iteration: 27200 loss: 0.0026 lr: 0.02\n",
      "iteration: 27300 loss: 0.0028 lr: 0.02\n",
      "iteration: 27400 loss: 0.0030 lr: 0.02\n",
      "iteration: 27500 loss: 0.0031 lr: 0.02\n",
      "iteration: 27600 loss: 0.0029 lr: 0.02\n",
      "iteration: 27700 loss: 0.0029 lr: 0.02\n",
      "iteration: 27800 loss: 0.0030 lr: 0.02\n",
      "iteration: 27900 loss: 0.0027 lr: 0.02\n",
      "iteration: 28000 loss: 0.0028 lr: 0.02\n",
      "iteration: 28100 loss: 0.0030 lr: 0.02\n",
      "iteration: 28200 loss: 0.0026 lr: 0.02\n",
      "iteration: 28300 loss: 0.0029 lr: 0.02\n",
      "iteration: 28400 loss: 0.0027 lr: 0.02\n",
      "iteration: 28500 loss: 0.0027 lr: 0.02\n",
      "iteration: 28600 loss: 0.0028 lr: 0.02\n",
      "iteration: 28700 loss: 0.0028 lr: 0.02\n",
      "iteration: 28800 loss: 0.0027 lr: 0.02\n",
      "iteration: 28900 loss: 0.0028 lr: 0.02\n",
      "iteration: 29000 loss: 0.0025 lr: 0.02\n",
      "iteration: 29100 loss: 0.0027 lr: 0.02\n",
      "iteration: 29200 loss: 0.0029 lr: 0.02\n",
      "iteration: 29300 loss: 0.0024 lr: 0.02\n",
      "iteration: 29400 loss: 0.0029 lr: 0.02\n",
      "iteration: 29500 loss: 0.0024 lr: 0.02\n",
      "iteration: 29600 loss: 0.0026 lr: 0.02\n",
      "iteration: 29700 loss: 0.0029 lr: 0.02\n",
      "iteration: 29800 loss: 0.0026 lr: 0.02\n",
      "iteration: 29900 loss: 0.0025 lr: 0.02\n",
      "iteration: 30000 loss: 0.0031 lr: 0.02\n",
      "Exception in thread Thread-9:\n",
      "Traceback (most recent call last):\n",
      "  File \"C:\\Users\\Dmitriy\\anaconda3\\envs\\DEEPLABCUT\\lib\\site-packages\\tensorflow\\python\\client\\session.py\", line 1378, in _do_call\n",
      "    return fn(*args)\n",
      "  File \"C:\\Users\\Dmitriy\\anaconda3\\envs\\DEEPLABCUT\\lib\\site-packages\\tensorflow\\python\\client\\session.py\", line 1361, in _run_fn\n",
      "    return self._call_tf_sessionrun(options, feed_dict, fetch_list,\n",
      "  File \"C:\\Users\\Dmitriy\\anaconda3\\envs\\DEEPLABCUT\\lib\\site-packages\\tensorflow\\python\\client\\session.py\", line 1454, in _call_tf_sessionrun\n",
      "    return tf_session.TF_SessionRun_wrapper(self._session, options, feed_dict,\n",
      "tensorflow.python.framework.errors_impl.CancelledError: Enqueue operation was cancelled\n",
      "\t [[{{node fifo_queue_enqueue}}]]\n",
      "\n",
      "During handling of the above exception, another exception occurred:\n",
      "\n",
      "Traceback (most recent call last):\n",
      "  File \"C:\\Users\\Dmitriy\\anaconda3\\envs\\DEEPLABCUT\\lib\\threading.py\", line 980, in _bootstrap_inner\n",
      "    self.run()\n",
      "  File \"C:\\Users\\Dmitriy\\anaconda3\\envs\\DEEPLABCUT\\lib\\threading.py\", line 917, in run\n",
      "    self._target(*self._args, **self._kwargs)\n",
      "  File \"C:\\Users\\Dmitriy\\anaconda3\\envs\\DEEPLABCUT\\lib\\site-packages\\deeplabcut\\pose_estimation_tensorflow\\core\\train.py\", line 86, in load_and_enqueue\n",
      "    sess.run(enqueue_op, feed_dict=food)\n",
      "  File \"C:\\Users\\Dmitriy\\anaconda3\\envs\\DEEPLABCUT\\lib\\site-packages\\tensorflow\\python\\client\\session.py\", line 968, in run\n",
      "    result = self._run(None, fetches, feed_dict, options_ptr,\n",
      "  File \"C:\\Users\\Dmitriy\\anaconda3\\envs\\DEEPLABCUT\\lib\\site-packages\\tensorflow\\python\\client\\session.py\", line 1191, in _run\n",
      "    results = self._do_run(handle, final_targets, final_fetches,\n",
      "  File \"C:\\Users\\Dmitriy\\anaconda3\\envs\\DEEPLABCUT\\lib\\site-packages\\tensorflow\\python\\client\\session.py\", line 1371, in _do_run\n",
      "    return self._do_call(_run_fn, feeds, fetches, targets, options,\n",
      "  File \"C:\\Users\\Dmitriy\\anaconda3\\envs\\DEEPLABCUT\\lib\\site-packages\\tensorflow\\python\\client\\session.py\", line 1397, in _do_call\n",
      "    raise type(e)(node_def, op, message)  # pylint: disable=no-value-for-parameter\n",
      "tensorflow.python.framework.errors_impl.CancelledError: Graph execution error:\n",
      "\n",
      "Detected at node 'fifo_queue_enqueue' defined at (most recent call last):\n",
      "    File \"C:\\Users\\Dmitriy\\anaconda3\\envs\\DEEPLABCUT\\lib\\runpy.py\", line 197, in _run_module_as_main\n",
      "      return _run_code(code, main_globals, None,\n",
      "    File \"C:\\Users\\Dmitriy\\anaconda3\\envs\\DEEPLABCUT\\lib\\runpy.py\", line 87, in _run_code\n",
      "      exec(code, run_globals)\n",
      "    File \"C:\\Users\\Dmitriy\\anaconda3\\envs\\DEEPLABCUT\\lib\\site-packages\\ipykernel_launcher.py\", line 17, in <module>\n",
      "      app.launch_new_instance()\n",
      "    File \"C:\\Users\\Dmitriy\\anaconda3\\envs\\DEEPLABCUT\\lib\\site-packages\\traitlets\\config\\application.py\", line 1053, in launch_instance\n",
      "      app.start()\n",
      "    File \"C:\\Users\\Dmitriy\\anaconda3\\envs\\DEEPLABCUT\\lib\\site-packages\\ipykernel\\kernelapp.py\", line 737, in start\n",
      "      self.io_loop.start()\n",
      "    File \"C:\\Users\\Dmitriy\\anaconda3\\envs\\DEEPLABCUT\\lib\\site-packages\\tornado\\platform\\asyncio.py\", line 195, in start\n",
      "      self.asyncio_loop.run_forever()\n",
      "    File \"C:\\Users\\Dmitriy\\anaconda3\\envs\\DEEPLABCUT\\lib\\asyncio\\base_events.py\", line 601, in run_forever\n",
      "      self._run_once()\n",
      "    File \"C:\\Users\\Dmitriy\\anaconda3\\envs\\DEEPLABCUT\\lib\\asyncio\\base_events.py\", line 1905, in _run_once\n",
      "      handle._run()\n",
      "    File \"C:\\Users\\Dmitriy\\anaconda3\\envs\\DEEPLABCUT\\lib\\asyncio\\events.py\", line 80, in _run\n",
      "      self._context.run(self._callback, *self._args)\n",
      "    File \"C:\\Users\\Dmitriy\\anaconda3\\envs\\DEEPLABCUT\\lib\\site-packages\\ipykernel\\kernelbase.py\", line 524, in dispatch_queue\n",
      "      await self.process_one()\n",
      "    File \"C:\\Users\\Dmitriy\\anaconda3\\envs\\DEEPLABCUT\\lib\\site-packages\\ipykernel\\kernelbase.py\", line 513, in process_one\n",
      "      await dispatch(*args)\n",
      "    File \"C:\\Users\\Dmitriy\\anaconda3\\envs\\DEEPLABCUT\\lib\\site-packages\\ipykernel\\kernelbase.py\", line 418, in dispatch_shell\n",
      "      await result\n",
      "    File \"C:\\Users\\Dmitriy\\anaconda3\\envs\\DEEPLABCUT\\lib\\site-packages\\ipykernel\\kernelbase.py\", line 758, in execute_request\n",
      "      reply_content = await reply_content\n",
      "    File \"C:\\Users\\Dmitriy\\anaconda3\\envs\\DEEPLABCUT\\lib\\site-packages\\ipykernel\\ipkernel.py\", line 426, in do_execute\n",
      "      res = shell.run_cell(\n",
      "    File \"C:\\Users\\Dmitriy\\anaconda3\\envs\\DEEPLABCUT\\lib\\site-packages\\ipykernel\\zmqshell.py\", line 549, in run_cell\n",
      "      return super().run_cell(*args, **kwargs)\n",
      "    File \"C:\\Users\\Dmitriy\\anaconda3\\envs\\DEEPLABCUT\\lib\\site-packages\\IPython\\core\\interactiveshell.py\", line 3046, in run_cell\n",
      "      result = self._run_cell(\n",
      "    File \"C:\\Users\\Dmitriy\\anaconda3\\envs\\DEEPLABCUT\\lib\\site-packages\\IPython\\core\\interactiveshell.py\", line 3101, in _run_cell\n",
      "      result = runner(coro)\n",
      "    File \"C:\\Users\\Dmitriy\\anaconda3\\envs\\DEEPLABCUT\\lib\\site-packages\\IPython\\core\\async_helpers.py\", line 129, in _pseudo_sync_runner\n",
      "      coro.send(None)\n",
      "    File \"C:\\Users\\Dmitriy\\anaconda3\\envs\\DEEPLABCUT\\lib\\site-packages\\IPython\\core\\interactiveshell.py\", line 3306, in run_cell_async\n",
      "      has_raised = await self.run_ast_nodes(code_ast.body, cell_name,\n",
      "    File \"C:\\Users\\Dmitriy\\anaconda3\\envs\\DEEPLABCUT\\lib\\site-packages\\IPython\\core\\interactiveshell.py\", line 3488, in run_ast_nodes\n",
      "      if await self.run_code(code, result, async_=asy):\n",
      "    File \"C:\\Users\\Dmitriy\\anaconda3\\envs\\DEEPLABCUT\\lib\\site-packages\\IPython\\core\\interactiveshell.py\", line 3548, in run_code\n",
      "      exec(code_obj, self.user_global_ns, self.user_ns)\n",
      "    File \"C:\\Users\\Dmitriy\\AppData\\Local\\Temp\\ipykernel_6332\\165872031.py\", line 1, in <module>\n",
      "      deeplabcut.train_network(config_path, maxiters=30000, displayiters=100, gputouse=0)\n",
      "    File \"C:\\Users\\Dmitriy\\anaconda3\\envs\\DEEPLABCUT\\lib\\site-packages\\deeplabcut\\pose_estimation_tensorflow\\training.py\", line 273, in train_network\n",
      "      train(\n",
      "    File \"C:\\Users\\Dmitriy\\anaconda3\\envs\\DEEPLABCUT\\lib\\site-packages\\deeplabcut\\pose_estimation_tensorflow\\core\\train.py\", line 172, in train\n",
      "      batch, enqueue_op, placeholders = setup_preloading(batch_spec)\n",
      "    File \"C:\\Users\\Dmitriy\\anaconda3\\envs\\DEEPLABCUT\\lib\\site-packages\\deeplabcut\\pose_estimation_tensorflow\\core\\train.py\", line 72, in setup_preloading\n",
      "      enqueue_op = q.enqueue(placeholders_list)\n",
      "Node: 'fifo_queue_enqueue'\n",
      "Enqueue operation was cancelled\n",
      "\t [[{{node fifo_queue_enqueue}}]]\n",
      "\n",
      "Original stack trace for 'fifo_queue_enqueue':\n",
      "  File \"C:\\Users\\Dmitriy\\anaconda3\\envs\\DEEPLABCUT\\lib\\runpy.py\", line 197, in _run_module_as_main\n",
      "    return _run_code(code, main_globals, None,\n",
      "  File \"C:\\Users\\Dmitriy\\anaconda3\\envs\\DEEPLABCUT\\lib\\runpy.py\", line 87, in _run_code\n",
      "    exec(code, run_globals)\n",
      "  File \"C:\\Users\\Dmitriy\\anaconda3\\envs\\DEEPLABCUT\\lib\\site-packages\\ipykernel_launcher.py\", line 17, in <module>\n",
      "    app.launch_new_instance()\n",
      "  File \"C:\\Users\\Dmitriy\\anaconda3\\envs\\DEEPLABCUT\\lib\\site-packages\\traitlets\\config\\application.py\", line 1053, in launch_instance\n",
      "    app.start()\n",
      "  File \"C:\\Users\\Dmitriy\\anaconda3\\envs\\DEEPLABCUT\\lib\\site-packages\\ipykernel\\kernelapp.py\", line 737, in start\n",
      "    self.io_loop.start()\n",
      "  File \"C:\\Users\\Dmitriy\\anaconda3\\envs\\DEEPLABCUT\\lib\\site-packages\\tornado\\platform\\asyncio.py\", line 195, in start\n",
      "    self.asyncio_loop.run_forever()\n",
      "  File \"C:\\Users\\Dmitriy\\anaconda3\\envs\\DEEPLABCUT\\lib\\asyncio\\base_events.py\", line 601, in run_forever\n",
      "    self._run_once()\n",
      "  File \"C:\\Users\\Dmitriy\\anaconda3\\envs\\DEEPLABCUT\\lib\\asyncio\\base_events.py\", line 1905, in _run_once\n",
      "    handle._run()\n",
      "  File \"C:\\Users\\Dmitriy\\anaconda3\\envs\\DEEPLABCUT\\lib\\asyncio\\events.py\", line 80, in _run\n",
      "    self._context.run(self._callback, *self._args)\n",
      "  File \"C:\\Users\\Dmitriy\\anaconda3\\envs\\DEEPLABCUT\\lib\\site-packages\\ipykernel\\kernelbase.py\", line 524, in dispatch_queue\n",
      "    await self.process_one()\n",
      "  File \"C:\\Users\\Dmitriy\\anaconda3\\envs\\DEEPLABCUT\\lib\\site-packages\\ipykernel\\kernelbase.py\", line 513, in process_one\n",
      "    await dispatch(*args)\n",
      "  File \"C:\\Users\\Dmitriy\\anaconda3\\envs\\DEEPLABCUT\\lib\\site-packages\\ipykernel\\kernelbase.py\", line 418, in dispatch_shell\n",
      "    await result\n",
      "  File \"C:\\Users\\Dmitriy\\anaconda3\\envs\\DEEPLABCUT\\lib\\site-packages\\ipykernel\\kernelbase.py\", line 758, in execute_request\n",
      "    reply_content = await reply_content\n",
      "  File \"C:\\Users\\Dmitriy\\anaconda3\\envs\\DEEPLABCUT\\lib\\site-packages\\ipykernel\\ipkernel.py\", line 426, in do_execute\n",
      "    res = shell.run_cell(\n",
      "  File \"C:\\Users\\Dmitriy\\anaconda3\\envs\\DEEPLABCUT\\lib\\site-packages\\ipykernel\\zmqshell.py\", line 549, in run_cell\n",
      "    return super().run_cell(*args, **kwargs)\n",
      "  File \"C:\\Users\\Dmitriy\\anaconda3\\envs\\DEEPLABCUT\\lib\\site-packages\\IPython\\core\\interactiveshell.py\", line 3046, in run_cell\n",
      "    result = self._run_cell(\n",
      "  File \"C:\\Users\\Dmitriy\\anaconda3\\envs\\DEEPLABCUT\\lib\\site-packages\\IPython\\core\\interactiveshell.py\", line 3101, in _run_cell\n",
      "    result = runner(coro)\n",
      "  File \"C:\\Users\\Dmitriy\\anaconda3\\envs\\DEEPLABCUT\\lib\\site-packages\\IPython\\core\\async_helpers.py\", line 129, in _pseudo_sync_runner\n",
      "    coro.send(None)\n",
      "  File \"C:\\Users\\Dmitriy\\anaconda3\\envs\\DEEPLABCUT\\lib\\site-packages\\IPython\\core\\interactiveshell.py\", line 3306, in run_cell_async\n",
      "    has_raised = await self.run_ast_nodes(code_ast.body, cell_name,\n",
      "  File \"C:\\Users\\Dmitriy\\anaconda3\\envs\\DEEPLABCUT\\lib\\site-packages\\IPython\\core\\interactiveshell.py\", line 3488, in run_ast_nodes\n",
      "    if await self.run_code(code, result, async_=asy):\n",
      "  File \"C:\\Users\\Dmitriy\\anaconda3\\envs\\DEEPLABCUT\\lib\\site-packages\\IPython\\core\\interactiveshell.py\", line 3548, in run_code\n",
      "    exec(code_obj, self.user_global_ns, self.user_ns)\n",
      "  File \"C:\\Users\\Dmitriy\\AppData\\Local\\Temp\\ipykernel_6332\\165872031.py\", line 1, in <module>\n",
      "    deeplabcut.train_network(config_path, maxiters=30000, displayiters=100, gputouse=0)\n",
      "  File \"C:\\Users\\Dmitriy\\anaconda3\\envs\\DEEPLABCUT\\lib\\site-packages\\deeplabcut\\pose_estimation_tensorflow\\training.py\", line 273, in train_network\n",
      "    train(\n",
      "  File \"C:\\Users\\Dmitriy\\anaconda3\\envs\\DEEPLABCUT\\lib\\site-packages\\deeplabcut\\pose_estimation_tensorflow\\core\\train.py\", line 172, in train\n",
      "    batch, enqueue_op, placeholders = setup_preloading(batch_spec)\n",
      "  File \"C:\\Users\\Dmitriy\\anaconda3\\envs\\DEEPLABCUT\\lib\\site-packages\\deeplabcut\\pose_estimation_tensorflow\\core\\train.py\", line 72, in setup_preloading\n",
      "    enqueue_op = q.enqueue(placeholders_list)\n",
      "  File \"C:\\Users\\Dmitriy\\anaconda3\\envs\\DEEPLABCUT\\lib\\site-packages\\tensorflow\\python\\ops\\data_flow_ops.py\", line 346, in enqueue\n",
      "    return gen_data_flow_ops.queue_enqueue_v2(\n",
      "  File \"C:\\Users\\Dmitriy\\anaconda3\\envs\\DEEPLABCUT\\lib\\site-packages\\tensorflow\\python\\ops\\gen_data_flow_ops.py\", line 4062, in queue_enqueue_v2\n",
      "    _, _, _op, _outputs = _op_def_library._apply_op_helper(\n",
      "  File \"C:\\Users\\Dmitriy\\anaconda3\\envs\\DEEPLABCUT\\lib\\site-packages\\tensorflow\\python\\framework\\op_def_library.py\", line 797, in _apply_op_helper\n",
      "    op = g._create_op_internal(op_type_name, inputs, dtypes=None,\n",
      "  File \"C:\\Users\\Dmitriy\\anaconda3\\envs\\DEEPLABCUT\\lib\\site-packages\\tensorflow\\python\\framework\\ops.py\", line 3800, in _create_op_internal\n",
      "    ret = Operation(\n",
      "\n"
     ]
    },
    {
     "name": "stdout",
     "output_type": "stream",
     "text": [
      "The network is now trained and ready to evaluate. Use the function 'evaluate_network' to evaluate the network.\n"
     ]
    }
   ],
   "source": [
    "deeplabcut.train_network(config_path, maxiters=30000, displayiters=100, gputouse=0)"
   ]
  },
  {
   "cell_type": "code",
   "execution_count": 10,
   "id": "d2d895cd",
   "metadata": {
    "scrolled": false
   },
   "outputs": [
    {
     "name": "stderr",
     "output_type": "stream",
     "text": [
      "Config:\n",
      "{'all_joints': [[0], [1], [2], [3], [4], [5], [6]],\n",
      " 'all_joints_names': ['left_ear',\n",
      "                      'right_ear',\n",
      "                      'head',\n",
      "                      'front_left_paw',\n",
      "                      'front_right_paw',\n",
      "                      'back_left_paw',\n",
      "                      'bakc_right_paw'],\n",
      " 'batch_size': 1,\n",
      " 'crop_pad': 0,\n",
      " 'dataset': 'training-datasets\\\\iteration-0\\\\UnaugmentedDataSet_Rabbit '\n",
      "            'keypoint detection testNov11\\\\Rabbit keypoint detection '\n",
      "            'test_Dmitriy Bukharev95shuffle1.mat',\n",
      " 'dataset_type': 'imgaug',\n",
      " 'deterministic': False,\n",
      " 'fg_fraction': 0.25,\n",
      " 'global_scale': 0.8,\n",
      " 'init_weights': 'C:\\\\Users\\\\Dmitriy\\\\anaconda3\\\\envs\\\\DEEPLABCUT\\\\lib\\\\site-packages\\\\deeplabcut\\\\pose_estimation_tensorflow\\\\models\\\\pretrained\\\\mobilenet_v2_1.0_224.ckpt',\n",
      " 'intermediate_supervision': False,\n",
      " 'intermediate_supervision_layer': 12,\n",
      " 'location_refinement': True,\n",
      " 'locref_huber_loss': True,\n",
      " 'locref_loss_weight': 1.0,\n",
      " 'locref_stdev': 7.2801,\n",
      " 'log_dir': 'log',\n",
      " 'mean_pixel': [123.68, 116.779, 103.939],\n",
      " 'mirror': False,\n",
      " 'net_type': 'mobilenet_v2_1.0',\n",
      " 'num_joints': 7,\n",
      " 'optimizer': 'sgd',\n",
      " 'pairwise_huber_loss': True,\n",
      " 'pairwise_predict': False,\n",
      " 'partaffinityfield_predict': False,\n",
      " 'regularize': False,\n",
      " 'scoremap_dir': 'test',\n",
      " 'shuffle': True,\n",
      " 'snapshot_prefix': 'D:\\\\Documents\\\\Programming\\\\Прочее\\\\ML\\\\rabbit-keypoint-detection\\\\notebooks\\\\Rabbit '\n",
      "                    'keypoint detection test-Dmitriy '\n",
      "                    'Bukharev-2023-11-11\\\\dlc-models\\\\iteration-0\\\\Rabbit '\n",
      "                    'keypoint detection '\n",
      "                    'testNov11-trainset95shuffle1\\\\test\\\\snapshot',\n",
      " 'stride': 8.0,\n",
      " 'weigh_negatives': False,\n",
      " 'weigh_only_present_joints': False,\n",
      " 'weigh_part_predictions': False,\n",
      " 'weight_decay': 0.0001}\n",
      "C:\\Users\\Dmitriy\\anaconda3\\envs\\DEEPLABCUT\\lib\\site-packages\\tensorflow\\python\\keras\\engine\\base_layer_v1.py:1694: UserWarning: `layer.apply` is deprecated and will be removed in a future version. Please use `layer.__call__` method instead.\n",
      "  warnings.warn('`layer.apply` is deprecated and '\n"
     ]
    },
    {
     "name": "stdout",
     "output_type": "stream",
     "text": [
      "Running  DLC_mobnet_100_Rabbit keypoint detection testNov11shuffle1_30000  with # of training iterations: 30000\n",
      "Running evaluation ...\n"
     ]
    },
    {
     "name": "stderr",
     "output_type": "stream",
     "text": [
      "20it [00:02,  7.63it/s]\n"
     ]
    },
    {
     "name": "stdout",
     "output_type": "stream",
     "text": [
      "Analysis is done and the results are stored (see evaluation-results) for snapshot:  snapshot-30000\n",
      "Results for 30000  training iterations: 95 1 train error: 2.45 pixels. Test error: 12.32  pixels.\n",
      "With pcutoff of 0.6  train error: 2.48 pixels. Test error: 12.32 pixels\n",
      "Thereby, the errors are given by the average distances between the labels by DLC and the scorer.\n",
      "Plotting...\n"
     ]
    },
    {
     "name": "stderr",
     "output_type": "stream",
     "text": [
      "  0%|                                                                                           | 0/20 [00:00<?, ?it/s]C:\\Users\\Dmitriy\\anaconda3\\envs\\DEEPLABCUT\\lib\\site-packages\\deeplabcut\\utils\\visualization.py:67: FutureWarning: Series.__getitem__ treating keys as positions is deprecated. In a future version, integer keys will always be treated as labels (consistent with DataFrame behavior). To access a value by position, use `ser.iloc[pos]`\n",
      "  DataCombined[loopscorer][bp][\"y\"][imagenr]\n",
      "C:\\Users\\Dmitriy\\anaconda3\\envs\\DEEPLABCUT\\lib\\site-packages\\deeplabcut\\utils\\visualization.py:68: FutureWarning: Series.__getitem__ treating keys as positions is deprecated. In a future version, integer keys will always be treated as labels (consistent with DataFrame behavior). To access a value by position, use `ser.iloc[pos]`\n",
      "  + DataCombined[loopscorer][bp][\"x\"][imagenr]\n",
      "C:\\Users\\Dmitriy\\anaconda3\\envs\\DEEPLABCUT\\lib\\site-packages\\deeplabcut\\utils\\visualization.py:71: FutureWarning: Series.__getitem__ treating keys as positions is deprecated. In a future version, integer keys will always be treated as labels (consistent with DataFrame behavior). To access a value by position, use `ser.iloc[pos]`\n",
      "  int(DataCombined[loopscorer][bp][\"y\"][imagenr]),\n",
      "C:\\Users\\Dmitriy\\anaconda3\\envs\\DEEPLABCUT\\lib\\site-packages\\deeplabcut\\utils\\visualization.py:72: FutureWarning: Series.__getitem__ treating keys as positions is deprecated. In a future version, integer keys will always be treated as labels (consistent with DataFrame behavior). To access a value by position, use `ser.iloc[pos]`\n",
      "  int(DataCombined[loopscorer][bp][\"x\"][imagenr]),\n",
      "C:\\Users\\Dmitriy\\anaconda3\\envs\\DEEPLABCUT\\lib\\site-packages\\deeplabcut\\utils\\visualization.py:75: FutureWarning: Series.__getitem__ treating keys as positions is deprecated. In a future version, integer keys will always be treated as labels (consistent with DataFrame behavior). To access a value by position, use `ser.iloc[pos]`\n",
      "  p = DataCombined[loopscorer][bp][\"likelihood\"][imagenr]\n",
      "100%|██████████████████████████████████████████████████████████████████████████████████| 20/20 [00:05<00:00,  3.40it/s]"
     ]
    },
    {
     "name": "stdout",
     "output_type": "stream",
     "text": [
      "The network is evaluated and the results are stored in the subdirectory 'evaluation_results'.\n",
      "Please check the results, then choose the best model (snapshot) for prediction. You can update the config.yaml file with the appropriate index for the 'snapshotindex'.\n",
      "Use the function 'analyze_video' to make predictions on new videos.\n",
      "Otherwise, consider adding more labeled-data and retraining the network (see DeepLabCut workflow Fig 2, Nath 2019)\n"
     ]
    },
    {
     "name": "stderr",
     "output_type": "stream",
     "text": [
      "\n"
     ]
    },
    {
     "data": {
      "image/png": "[encoded data removed]",
      "text/plain": [
       "<Figure size 1280x720 with 1 Axes>"
      ]
     },
     "metadata": {},
     "output_type": "display_data"
    }
   ],
   "source": [
    "deeplabcut.evaluate_network(config_path,Shuffles=[1], plotting=True)"
   ]
  },
  {
   "cell_type": "code",
   "execution_count": 11,
   "id": "9b376f4f",
   "metadata": {},
   "outputs": [
    {
     "name": "stderr",
     "output_type": "stream",
     "text": [
      "Config:\n",
      "{'all_joints': [[0], [1], [2], [3], [4], [5], [6]],\n",
      " 'all_joints_names': ['left_ear',\n",
      "                      'right_ear',\n",
      "                      'head',\n",
      "                      'front_left_paw',\n",
      "                      'front_right_paw',\n",
      "                      'back_left_paw',\n",
      "                      'bakc_right_paw'],\n",
      " 'batch_size': 1,\n",
      " 'crop_pad': 0,\n",
      " 'dataset': 'training-datasets\\\\iteration-0\\\\UnaugmentedDataSet_Rabbit '\n",
      "            'keypoint detection testNov11\\\\Rabbit keypoint detection '\n",
      "            'test_Dmitriy Bukharev95shuffle1.mat',\n",
      " 'dataset_type': 'imgaug',\n",
      " 'deterministic': False,\n",
      " 'fg_fraction': 0.25,\n",
      " 'global_scale': 0.8,\n",
      " 'init_weights': 'C:\\\\Users\\\\Dmitriy\\\\anaconda3\\\\envs\\\\DEEPLABCUT\\\\lib\\\\site-packages\\\\deeplabcut\\\\pose_estimation_tensorflow\\\\models\\\\pretrained\\\\mobilenet_v2_1.0_224.ckpt',\n",
      " 'intermediate_supervision': False,\n",
      " 'intermediate_supervision_layer': 12,\n",
      " 'location_refinement': True,\n",
      " 'locref_huber_loss': True,\n",
      " 'locref_loss_weight': 1.0,\n",
      " 'locref_stdev': 7.2801,\n",
      " 'log_dir': 'log',\n",
      " 'mean_pixel': [123.68, 116.779, 103.939],\n",
      " 'mirror': False,\n",
      " 'net_type': 'mobilenet_v2_1.0',\n",
      " 'num_joints': 7,\n",
      " 'optimizer': 'sgd',\n",
      " 'pairwise_huber_loss': True,\n",
      " 'pairwise_predict': False,\n",
      " 'partaffinityfield_predict': False,\n",
      " 'regularize': False,\n",
      " 'scoremap_dir': 'test',\n",
      " 'shuffle': True,\n",
      " 'snapshot_prefix': 'D:\\\\Documents\\\\Programming\\\\Прочее\\\\ML\\\\rabbit-keypoint-detection\\\\notebooks\\\\Rabbit '\n",
      "                    'keypoint detection test-Dmitriy '\n",
      "                    'Bukharev-2023-11-11\\\\dlc-models\\\\iteration-0\\\\Rabbit '\n",
      "                    'keypoint detection '\n",
      "                    'testNov11-trainset95shuffle1\\\\test\\\\snapshot',\n",
      " 'stride': 8.0,\n",
      " 'weigh_negatives': False,\n",
      " 'weigh_only_present_joints': False,\n",
      " 'weigh_part_predictions': False,\n",
      " 'weight_decay': 0.0001}\n",
      "C:\\Users\\Dmitriy\\anaconda3\\envs\\DEEPLABCUT\\lib\\site-packages\\tensorflow\\python\\keras\\engine\\base_layer_v1.py:1694: UserWarning: `layer.apply` is deprecated and will be removed in a future version. Please use `layer.__call__` method instead.\n",
      "  warnings.warn('`layer.apply` is deprecated and '\n"
     ]
    },
    {
     "name": "stdout",
     "output_type": "stream",
     "text": [
      "Using snapshot-30000 for model D:\\Documents\\Programming\\Прочее\\ML\\rabbit-keypoint-detection\\notebooks\\Rabbit keypoint detection test-Dmitriy Bukharev-2023-11-11\\dlc-models\\iteration-0\\Rabbit keypoint detection testNov11-trainset95shuffle1\n",
      "Starting to analyze %  ..\\videos\\rabbit-video-3.mp4\n",
      "Loading  ..\\videos\\rabbit-video-3.mp4\n",
      "Duration of video [s]:  59.63 , recorded with  30.0 fps!\n",
      "Overall # of frames:  1789  found with (before cropping) frame dimensions:  1280 720\n",
      "Starting to extract posture\n"
     ]
    },
    {
     "name": "stderr",
     "output_type": "stream",
     "text": [
      "100%|██████████████████████████████████████████████████████████████████████████████| 1789/1789 [01:55<00:00, 15.44it/s]"
     ]
    },
    {
     "name": "stdout",
     "output_type": "stream",
     "text": [
      "Saving results in ..\\videos...\n",
      "The videos are analyzed. Now your research can truly start! \n",
      " You can create labeled videos with 'create_labeled_video'\n",
      "If the tracking is not satisfactory for some videos, consider expanding the training set. You can use the function 'extract_outlier_frames' to extract a few representative outlier frames.\n"
     ]
    },
    {
     "name": "stderr",
     "output_type": "stream",
     "text": [
      "\n"
     ]
    },
    {
     "data": {
      "text/plain": [
       "'DLC_mobnet_100_Rabbit keypoint detection testNov11shuffle1_30000'"
      ]
     },
     "execution_count": 11,
     "metadata": {},
     "output_type": "execute_result"
    }
   ],
   "source": [
    "deeplabcut.analyze_videos(config_path, videos_paths)"
   ]
  },
  {
   "cell_type": "code",
   "execution_count": 12,
   "id": "28ccf924",
   "metadata": {},
   "outputs": [
    {
     "name": "stdout",
     "output_type": "stream",
     "text": [
      "Starting to process video: ..\\videos\\rabbit-video-3.mp4\n",
      "Loading ..\\videos\\rabbit-video-3.mp4 and data.\n",
      "Duration of video [s]: 59.63, recorded with 30.0 fps!\n",
      "Overall # of frames: 1789 with cropped frame dimensions: 1280 720\n",
      "Generating frames and creating video.\n"
     ]
    },
    {
     "name": "stderr",
     "output_type": "stream",
     "text": [
      "100%|█████████████████████████████████████████████████████████████████████████████| 1789/1789 [00:12<00:00, 139.50it/s]\n"
     ]
    },
    {
     "data": {
      "text/plain": [
       "[True]"
      ]
     },
     "execution_count": 12,
     "metadata": {},
     "output_type": "execute_result"
    }
   ],
   "source": [
    "deeplabcut.create_labeled_video(config_path, videos_paths)"
   ]
  }
 ],
 "metadata": {
  "kernelspec": {
   "display_name": "Python 3 (ipykernel)",
   "language": "python",
   "name": "python3"
  },
  "language_info": {
   "codemirror_mode": {
    "name": "ipython",
    "version": 3
   },
   "file_extension": ".py",
   "mimetype": "text/x-python",
   "name": "python",
   "nbconvert_exporter": "python",
   "pygments_lexer": "ipython3",
   "version": "3.9.18"
  }
 },
 "nbformat": 4,
 "nbformat_minor": 5
}
